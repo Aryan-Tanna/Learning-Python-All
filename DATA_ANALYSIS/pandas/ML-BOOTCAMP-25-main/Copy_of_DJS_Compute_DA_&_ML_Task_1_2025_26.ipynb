{
  "nbformat": 4,
  "nbformat_minor": 0,
  "metadata": {
    "colab": {
      "provenance": []
    },
    "kernelspec": {
      "name": "python3",
      "display_name": "Python 3"
    },
    "language_info": {
      "name": "python"
    }
  },
  "cells": [
    {
      "cell_type": "markdown",
      "source": [
        "**General Instructions:**\n",
        "\n",
        "*   Please make a copy of this colab notebook in your own drive and solve the questions in the copy. Do not edit the original file.\n",
        "\n",
        "*   All participants are encouraged to learn the basics of python including data types, operators, loops, conditional statements, handling user-defined input, strings, string methods, lists, list comprehension, sets, tuples, dictionaries and basic object-oriented programming concepts before coming to the interview.\n",
        "\n",
        "Beginners unfamiliar with Python are advised to watch the following tutorial before beginning Task 1.\n",
        "\n",
        "**Python Tutorial:** https://youtu.be/yVl_G-F7m8c?si=nEaJMo7Gqk-tQay1\n",
        "\n",
        "\n",
        "\n",
        "**Note:** The expected output is given in the cells below the question.\n"
      ],
      "metadata": {
        "id": "PiZZfxvj57LK"
      }
    },
    {
      "cell_type": "markdown",
      "source": [
        "# Task 1 - Basics of Python\n",
        "\n",
        "\n",
        "\n",
        "> It is the year 3032. After a year of brutal resistance, humanity has managed to slow down the alien invaders. However, the war is far from over. The aliens have begun using more sophisticated tactics, infiltrating human networks, and sabotaging supply lines. You have been recruited by the Resistance as their lead programmer, tasked with writing small but powerful scripts to help humanity survive.\n",
        "\n",
        "Your missions will range from secure communication, data cleansing, and resource tracking to infiltrator detection and digital security. Each problem you solve brings the Resistance one step closer to victory.\n",
        "\n",
        "\n",
        "\n",
        "\n"
      ],
      "metadata": {
        "id": "FgdtUgoiauGY"
      }
    },
    {
      "cell_type": "markdown",
      "source": [
        "**Question 1:**\n",
        "The alien invaders have begun intercepting resistance transmissions. To counter this, the rebels have adopted a simple text-based encryption method:\n",
        "\n",
        "Every alternate word in a sentence is reversed.\n",
        "\n",
        "The first word stays as it is, the second is reversed, the third stays as it is, the fourth is reversed, and so on.\n",
        "\n",
        "eg:\n",
        "Input: \"We strike at dawn tomorrow\"\n",
        "Output: \"We ekirts at nwad tomorrow\"\n",
        "\n",
        "Write a function encrypt_message(message) that takes in a sentence and returns the encrypted version."
      ],
      "metadata": {
        "id": "jk_UOVbvcfJb"
      }
    },
    {
      "cell_type": "code",
      "execution_count": null,
      "metadata": {
        "id": "LmwLUF-kahv0"
      },
      "outputs": [],
      "source": [
        "message = \"The aliens will target the food stores first\""
      ]
    },
    {
      "cell_type": "code",
      "source": [
        "message = \"The aliens will target the food stores first\"\n",
        "list = message.split()\n",
        "for I in range(len(list)):\n",
        "  if(I%2 != 0):\n",
        "    list[I]= ''.join(reversed(list[I]))\n",
        "print(' '.join(list))"
      ],
      "metadata": {
        "colab": {
          "base_uri": "https://localhost:8080/"
        },
        "id": "H3vbMHoYf5Q1",
        "outputId": "0f0f4d19-9204-4a75-8bb0-47e00783abd0"
      },
      "execution_count": null,
      "outputs": [
        {
          "output_type": "stream",
          "name": "stdout",
          "text": [
            "The sneila will tegrat the doof stores tsrif\n"
          ]
        }
      ]
    },
    {
      "cell_type": "markdown",
      "source": [
        "**Question 2:**\n",
        "The Resistance must prioritize rations for children and the elderly. Unfortunately, the refugee registration team is overwhelmed, and the age records are a mess — some are written as strings, some have accidental letters, and others are fine.\n",
        "\n",
        "Your job is to write a function clean_and_sort_ages(data) that:\n",
        "1. Removes invalid entries (anything that isn’t purely digits).\n",
        "\n",
        "2. Converts valid entries into integers.\n",
        "\n",
        "3. Returns a clean, sorted list of ages in ascending order."
      ],
      "metadata": {
        "id": "gezvSe3_hgoU"
      }
    },
    {
      "cell_type": "code",
      "source": [
        "data = [\"23\", \"17\", \"thirty\", \"45\", \"19a\", \"31\", \"20\", \"twenty_seven\", \"25c\"]"
      ],
      "metadata": {
        "id": "xqobzAhOunhf"
      },
      "execution_count": null,
      "outputs": []
    },
    {
      "cell_type": "code",
      "source": [
        "data = [\"23\", \"17\", \"thirty\", \"45\", \"19a\", \"31\", \"20\", \"twenty_seven\", \"25c\"]\n",
        "datalist = data\n",
        "data2 = []\n",
        "for data in datalist:\n",
        "  data1 = str(data)\n",
        "  if data1.isdigit():\n",
        "    data2.append(int(data1))\n",
        "  else:\n",
        "    print(\"\")\n",
        "print(sorted(data2))"
      ],
      "metadata": {
        "colab": {
          "base_uri": "https://localhost:8080/"
        },
        "id": "ZHWkgegKvpgZ",
        "outputId": "9eb6d98c-9a8e-42ac-db8c-0c37caabdfb5"
      },
      "execution_count": null,
      "outputs": [
        {
          "output_type": "stream",
          "name": "stdout",
          "text": [
            "\n",
            "\n",
            "\n",
            "\n",
            "[17, 20, 23, 31, 45]\n"
          ]
        }
      ]
    },
    {
      "cell_type": "markdown",
      "source": [
        "**Question 3:** Supply crates are dropped at night by allied aircraft, but due to enemy fire, crates often scatter and the Resistance ends up with piles of mixed supplies. Each crate is labeled with a code:\n",
        "\n",
        " - \"MED-###\" for medical supplies\n",
        "\n",
        " - \"FOOD-###\" for food\n",
        "\n",
        " - \"WPN-###\" for weapons\n",
        "\n",
        "Write a function count_supplies(supplies) that counts how many of each type the rebels have."
      ],
      "metadata": {
        "id": "coC9Sbqd0bq0"
      }
    },
    {
      "cell_type": "code",
      "source": [
        "supplies = [\"MED-234\", \"FOOD-789\", \"WPN-101\", \"MED-456\", \"FOOD-321\"]"
      ],
      "metadata": {
        "id": "sj5NUmpdYPDF"
      },
      "execution_count": null,
      "outputs": []
    },
    {
      "cell_type": "code",
      "source": [
        "def count_supplies(supplies):\n",
        "    counts = {'MED': 0, 'FOOD': 0, 'WPN': 0}\n",
        "    for item in supplies:\n",
        "        x = item.split('-')[0]\n",
        "        if x in counts:\n",
        "            counts[x] += 1\n",
        "    return counts\n",
        "supplies = [\"MED-234\", \"FOOD-789\", \"WPN-101\", \"MED-456\", \"FOOD-321\"]\n",
        "print(count_supplies(supplies))"
      ],
      "metadata": {
        "colab": {
          "base_uri": "https://localhost:8080/"
        },
        "id": "aPuIzBQv2sSS",
        "outputId": "2c8c408a-8632-4be5-e412-46e9c8282fe8"
      },
      "execution_count": null,
      "outputs": [
        {
          "output_type": "stream",
          "name": "stdout",
          "text": [
            "{'MED': 2, 'FOOD': 2, 'WPN': 1}\n"
          ]
        }
      ]
    },
    {
      "cell_type": "markdown",
      "source": [
        "The rebel scientists have been analyzing captured alien samples. They have discovered rules that can identify whether a DNA sequence is alien or human:\n",
        "\n",
        " - Alien DNA always ends with \"XZ\"\n",
        "\n",
        " - OR contains the substring \"QW\"\n",
        "\n",
        " - OR has a total length greater than 12 characters\n",
        "\n",
        "Write a function detect_aliens(dna_list) that separates sequences into two lists: Aliens and Humans."
      ],
      "metadata": {
        "id": "6z7Wr4BD8xSA"
      }
    },
    {
      "cell_type": "code",
      "source": [
        "dna_list = [\"ATCGXZ\", \"AATGQWGG\", \"TTAGCTA\", \"GATTACAGATTACA\", \"AXGTQWGGGXZ\", \"ATTGTCTA\"]"
      ],
      "metadata": {
        "id": "xUCGsUO9-use"
      },
      "execution_count": null,
      "outputs": []
    },
    {
      "cell_type": "code",
      "source": [
        "def detect_aliens(dna_list):\n",
        "    aliens = []\n",
        "    humans = []\n",
        "\n",
        "    for sequence in dna_list:\n",
        "        if sequence.endswith(\"XZ\") or \"QW\" in sequence or len(sequence) > 12:\n",
        "            aliens.append(sequence)\n",
        "        else:\n",
        "            humans.append(sequence)\n",
        "\n",
        "    return aliens, humans\n",
        "dna_list = [\"ATCGXZ\", \"AATGQWGG\", \"TTAGCTA\", \"GATTACAGATTACA\", \"AXGTQWGGGXZ\", \"ATTGTCTA\"]\n",
        "\n",
        "aliens, humans = detect_aliens(dna_list)\n",
        "print(\"Aliens: \", aliens)\n",
        "print(\"Humans: \", humans)"
      ],
      "metadata": {
        "colab": {
          "base_uri": "https://localhost:8080/"
        },
        "id": "y7MSDDAL_ZhT",
        "outputId": "52607042-1744-4c45-e7aa-8058c0df90f7"
      },
      "execution_count": null,
      "outputs": [
        {
          "output_type": "stream",
          "name": "stdout",
          "text": [
            "Aliens:  ['ATCGXZ', 'AATGQWGG', 'GATTACAGATTACA', 'AXGTQWGGGXZ']\n",
            "Humans:  ['TTAGCTA', 'ATTGTCTA']\n"
          ]
        }
      ]
    },
    {
      "cell_type": "markdown",
      "source": [
        "**Question 5:** The Resistance intercepted classified intelligence files about alien commanders. Each commander is represented as a dictionary:\n",
        "\n",
        "{\"name\": \"Xeron\", \"rank\": 4, \"missions\": 20}\n",
        "\n",
        "Your task is to help the rebel analysts make sense of the data:\n",
        "\n",
        "1. Write a function sort_by_missions(commanders) → sorts the list by missions in descending order.\n",
        "\n",
        "2. Write a function sort_by_rank(commanders) → sorts the list by rank in ascending order."
      ],
      "metadata": {
        "id": "hryYd_ubD2U8"
      }
    },
    {
      "cell_type": "code",
      "source": [
        "commanders = [\n",
        "    {\"name\": \"Xeron\", \"rank\": 4, \"missions\": 20},\n",
        "    {\"name\": \"Mira\", \"rank\": 2, \"missions\": 50},\n",
        "    {\"name\": \"Zara\", \"rank\": 4, \"missions\": 21},\n",
        "    {\"name\": \"Rumi\", \"rank\": 1, \"missions\": 75},\n",
        "    {\"name\": \"Larzon\", \"rank\": 5, \"missions\": 35}\n",
        "]"
      ],
      "metadata": {
        "id": "XniLIPBoGrl9"
      },
      "execution_count": null,
      "outputs": []
    },
    {
      "cell_type": "code",
      "source": [
        "commanders = [\n",
        "    {\"name\": \"Xeron\", \"rank\": 4, \"missions\": 20},\n",
        "    {\"name\": \"Mira\", \"rank\": 2, \"missions\": 50},\n",
        "    {\"name\": \"Zara\", \"rank\": 4, \"missions\": 21},\n",
        "    {\"name\": \"Rumi\", \"rank\": 1, \"missions\": 75},\n",
        "    {\"name\": \"Larzon\", \"rank\": 5, \"missions\": 35}\n",
        "]\n",
        "def get_mission_count(commander):\n",
        "  return commander[\"missions\"]\n",
        "\n",
        "def get_rank(commander):\n",
        "  return commander[\"rank\"]\n",
        "def sort_by_missions(commanders):\n",
        "  return sorted(commanders, key=get_mission_count, reverse=True)\n",
        "def sort_by_rank(commanders):\n",
        "  return sorted(commanders, key=get_rank)\n",
        "print(\"Commanders sorted by missions (most first):\")\n",
        "most_experienced = sort_by_missions(commanders)\n",
        "for commander in most_experienced:\n",
        "    print(commander)\n"
      ],
      "metadata": {
        "colab": {
          "base_uri": "https://localhost:8080/"
        },
        "id": "bjq8PTTOHh56",
        "outputId": "26fb2ed7-3307-49ce-96c1-869367f6aa38"
      },
      "execution_count": null,
      "outputs": [
        {
          "output_type": "stream",
          "name": "stdout",
          "text": [
            "Commanders sorted by missions (most first):\n",
            "{'name': 'Rumi', 'rank': 1, 'missions': 75}\n",
            "{'name': 'Mira', 'rank': 2, 'missions': 50}\n",
            "{'name': 'Larzon', 'rank': 5, 'missions': 35}\n",
            "{'name': 'Zara', 'rank': 4, 'missions': 21}\n",
            "{'name': 'Xeron', 'rank': 4, 'missions': 20}\n"
          ]
        }
      ]
    },
    {
      "cell_type": "markdown",
      "source": [
        "**Question 6:** The Resistance maintains hidden bases across the city. Each base is marked on a map by its (x, y) coordinates. Headquarters is located at (0, 0). In case of emergencies, bases closest to HQ will receive evacuation priority.\n",
        "\n",
        "Write a function calculate_distances(coords) that:\n",
        "\n",
        " - Calculates the Euclidean distance of each base from HQ.\n",
        "\n",
        " - Returns a dictionary mapping each coordinate to its distance, rounded to 2 decimals."
      ],
      "metadata": {
        "id": "90Nijs1KIZZ0"
      }
    },
    {
      "cell_type": "code",
      "source": [
        "coords = [(3, 4), (1, 1), (0, 5), (2, -2), (5, 7)]"
      ],
      "metadata": {
        "id": "qfOljsoEZ_BF"
      },
      "execution_count": null,
      "outputs": []
    },
    {
      "cell_type": "code",
      "source": [
        "import math\n",
        "\n",
        "coords = [(3, 4), (1, 1), (0, 5), (2, -2), (5, 7)]\n",
        "\n",
        "def calc_dist(coords):\n",
        "    distance_map = {}\n",
        "    for x, y in coords:\n",
        "        distance = math.sqrt(x**2 + y**2)\n",
        "        distance_map[(x, y)] = round(distance, 2)\n",
        "    return distance_map\n",
        "\n",
        "print(calc_dist(coords))"
      ],
      "metadata": {
        "colab": {
          "base_uri": "https://localhost:8080/"
        },
        "id": "gnI1a0TFLoqh",
        "outputId": "8b1ad3c6-6a0a-4eed-acc9-3ac7dcec5952"
      },
      "execution_count": null,
      "outputs": [
        {
          "output_type": "stream",
          "name": "stdout",
          "text": [
            "{(3, 4): 5.0, (1, 1): 1.41, (0, 5): 5.0, (2, -2): 2.83, (5, 7): 8.6}\n"
          ]
        }
      ]
    },
    {
      "cell_type": "markdown",
      "source": [
        "**Question 7:** The Resistance has secured safehouses with digital locks. To prevent alien infiltration, access codes must follow strict rules:\n",
        "\n",
        " - Must be exactly 8 characters long\n",
        "\n",
        " - The first 2 characters must be uppercase letters\n",
        "\n",
        " - The next 2 characters must be lowercase letters\n",
        "\n",
        " - The last 4 characters must be digits\n",
        "\n",
        "Write a regex that validates a list of access codes.\n",
        "\n",
        "\n",
        "P.S. Don't forget to import the re module"
      ],
      "metadata": {
        "id": "74iydRkwULOi"
      }
    },
    {
      "cell_type": "code",
      "source": [
        "codes = [\"ABcd1234\", \"ZZzz9999\", \"aaBB1234\", \"XYab5678\", \"QWoh9624\", \"koWT2613\"]"
      ],
      "metadata": {
        "id": "WcroHcC4VUaY"
      },
      "execution_count": null,
      "outputs": []
    },
    {
      "cell_type": "code",
      "source": [
        "def validate_codes(codes):\n",
        "    valid = []\n",
        "    for code in codes:\n",
        "        if len(code) != 8:\n",
        "            continue\n",
        "        first_two = code[:2]\n",
        "        next_two = code[2:4]\n",
        "        last_four = code[4:]\n",
        "\n",
        "        if (first_two.isupper() and next_two.islower() and last_four.isdigit()):\n",
        "            valid.append(code)\n",
        "    return valid\n",
        "codes = [\"ABcd1234\", \"ZZzz9999\", \"aaBB1234\", \"XYab5678\", \"QWoh9624\", \"koWT2613\"]\n",
        "print(validate_codes(codes))"
      ],
      "metadata": {
        "colab": {
          "base_uri": "https://localhost:8080/"
        },
        "id": "_Gj97hjmVpGG",
        "outputId": "3c09ab38-e515-445d-ee41-6ba3e07c4376"
      },
      "execution_count": null,
      "outputs": [
        {
          "output_type": "stream",
          "name": "stdout",
          "text": [
            "['ABcd1234', 'ZZzz9999', 'XYab5678', 'QWoh9624']\n"
          ]
        }
      ]
    },
    {
      "cell_type": "markdown",
      "source": [
        "For a better understanding of Regular Expressions: https://realpython.com/regex-python/"
      ],
      "metadata": {
        "id": "ZlnxyGHm7z0J"
      }
    }
  ]
}